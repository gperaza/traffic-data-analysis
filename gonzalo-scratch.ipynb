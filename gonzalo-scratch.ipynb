{
 "cells": [
  {
   "cell_type": "code",
   "execution_count": 62,
   "id": "offensive-sheriff",
   "metadata": {},
   "outputs": [],
   "source": [
    "import geopandas as gpd\n",
    "from datetime import datetime, timedelta\n",
    "import re"
   ]
  },
  {
   "cell_type": "markdown",
   "id": "handy-investigation",
   "metadata": {},
   "source": [
    "# Importing pNeuma dataset"
   ]
  },
  {
   "cell_type": "markdown",
   "id": "suburban-arizona",
   "metadata": {},
   "source": [
    "The pNeuma dataset files are fairly large and do not posses the same number of columns. Direct import into a dataframe is not possible. So, we process line by line, build a dict with the path object as a collection of points. Finally, create a geopandas dataframe from the list of dicts. \n",
    "\n",
    "A possible problem is that the whole dataset may not fit into ram, then we need to find a way to store information directñy in disk."
   ]
  },
  {
   "cell_type": "code",
   "execution_count": 65,
   "id": "alternative-nightlife",
   "metadata": {},
   "outputs": [
    {
     "data": {
      "text/plain": [
       "datetime.datetime(2018, 10, 24, 8, 42, 11, 540000)"
      ]
     },
     "execution_count": 65,
     "metadata": {},
     "output_type": "execute_result"
    }
   ],
   "source": [
    "# Parse input file for time data\n",
    "fname = '20181024_dX_0830_0900.csv'\n",
    "def get_basedate(fname):\n",
    "    pat = re.compile(r'^([0-9]{4})([0-9]{2})([0-9]{2})_dX_([0-9]{2})([0-9]{2})_([0-9]{2})([0-9]{2})\\.csv')\n",
    "    year, month, day, start_hour, start_min, end_hour, end_min = [int(x) for x in pat.findall(fname)[0]]\n",
    "    basedate = datetime(year, month, day, start_hour, start_min)\n",
    "    return basedate\n",
    "basedate = get_basedate(fname)\n",
    "# Now we can update the basedate with the time of each point in the dataset (given in seconds) \n",
    "basedate + timedelta(seconds=731.54)"
   ]
  },
  {
   "cell_type": "code",
   "execution_count": 66,
   "id": "modern-auditor",
   "metadata": {},
   "outputs": [
    {
     "name": "stdout",
     "output_type": "stream",
     "text": [
      "track_id; type; traveled_d; avg_speed; lat; lon; speed; lon_acc; lat_acc; time\n",
      "\n"
     ]
    },
    {
     "data": {
      "text/plain": [
       "[{'geometry': <shapely.geometry.point.Point at 0x7f08a0e32880>,\n",
       "  't': datetime.datetime(2018, 10, 24, 8, 30)},\n",
       " {'geometry': <shapely.geometry.point.Point at 0x7f08a0e328b0>,\n",
       "  't': datetime.datetime(2018, 10, 24, 8, 30, 0, 40000)},\n",
       " {'geometry': <shapely.geometry.point.Point at 0x7f08a0e32a00>,\n",
       "  't': datetime.datetime(2018, 10, 24, 8, 30, 0, 80000)},\n",
       " {'geometry': <shapely.geometry.point.Point at 0x7f08a163c1f0>,\n",
       "  't': datetime.datetime(2018, 10, 24, 8, 30, 0, 120000)},\n",
       " {'geometry': <shapely.geometry.point.Point at 0x7f08a120e5e0>,\n",
       "  't': datetime.datetime(2018, 10, 24, 8, 30, 0, 160000)},\n",
       " {'geometry': <shapely.geometry.point.Point at 0x7f08a120e610>,\n",
       "  't': datetime.datetime(2018, 10, 24, 8, 30, 0, 200000)},\n",
       " {'geometry': <shapely.geometry.point.Point at 0x7f08a120ee50>,\n",
       "  't': datetime.datetime(2018, 10, 24, 8, 30, 0, 240000)},\n",
       " {'geometry': <shapely.geometry.point.Point at 0x7f08a120e640>,\n",
       "  't': datetime.datetime(2018, 10, 24, 8, 30, 0, 280000)},\n",
       " {'geometry': <shapely.geometry.point.Point at 0x7f08a120e9d0>,\n",
       "  't': datetime.datetime(2018, 10, 24, 8, 30, 0, 320000)},\n",
       " {'geometry': <shapely.geometry.point.Point at 0x7f08a121b550>,\n",
       "  't': datetime.datetime(2018, 10, 24, 8, 30, 0, 360000)},\n",
       " {'geometry': <shapely.geometry.point.Point at 0x7f08a121b310>,\n",
       "  't': datetime.datetime(2018, 10, 24, 8, 30, 0, 400000)},\n",
       " {'geometry': <shapely.geometry.point.Point at 0x7f08a121b0d0>,\n",
       "  't': datetime.datetime(2018, 10, 24, 8, 30, 0, 440000)},\n",
       " {'geometry': <shapely.geometry.point.Point at 0x7f08a121b370>,\n",
       "  't': datetime.datetime(2018, 10, 24, 8, 30, 0, 480000)},\n",
       " {'geometry': <shapely.geometry.point.Point at 0x7f08a121bbe0>,\n",
       "  't': datetime.datetime(2018, 10, 24, 8, 30, 0, 520000)},\n",
       " {'geometry': <shapely.geometry.point.Point at 0x7f08a121bc40>,\n",
       "  't': datetime.datetime(2018, 10, 24, 8, 30, 0, 560000)},\n",
       " {'geometry': <shapely.geometry.point.Point at 0x7f08a121b100>,\n",
       "  't': datetime.datetime(2018, 10, 24, 8, 30, 0, 600000)},\n",
       " {'geometry': <shapely.geometry.point.Point at 0x7f08a121bac0>,\n",
       "  't': datetime.datetime(2018, 10, 24, 8, 30, 0, 640000)},\n",
       " {'geometry': <shapely.geometry.point.Point at 0x7f08a121bc10>,\n",
       "  't': datetime.datetime(2018, 10, 24, 8, 30, 0, 680000)},\n",
       " {'geometry': <shapely.geometry.point.Point at 0x7f08a121b4f0>,\n",
       "  't': datetime.datetime(2018, 10, 24, 8, 30, 0, 720000)},\n",
       " {'geometry': <shapely.geometry.point.Point at 0x7f08a121b5b0>,\n",
       "  't': datetime.datetime(2018, 10, 24, 8, 30, 0, 760000)},\n",
       " {'geometry': <shapely.geometry.point.Point at 0x7f08a0984310>,\n",
       "  't': datetime.datetime(2018, 10, 24, 8, 30, 0, 800000)},\n",
       " {'geometry': <shapely.geometry.point.Point at 0x7f08a0984460>,\n",
       "  't': datetime.datetime(2018, 10, 24, 8, 30, 0, 840000)},\n",
       " {'geometry': <shapely.geometry.point.Point at 0x7f08a0e32670>,\n",
       "  't': datetime.datetime(2018, 10, 24, 8, 30, 0, 880000)},\n",
       " {'geometry': <shapely.geometry.point.Point at 0x7f08a0e328e0>,\n",
       "  't': datetime.datetime(2018, 10, 24, 8, 30, 0, 920000)},\n",
       " {'geometry': <shapely.geometry.point.Point at 0x7f08a0b84fd0>,\n",
       "  't': datetime.datetime(2018, 10, 24, 8, 30, 0, 960000)},\n",
       " {'geometry': <shapely.geometry.point.Point at 0x7f08a0b84df0>,\n",
       "  't': datetime.datetime(2018, 10, 24, 8, 30, 1)}]"
      ]
     },
     "execution_count": 66,
     "metadata": {},
     "output_type": "execute_result"
    }
   ],
   "source": [
    "# Test with a single file\n",
    "fname = '20181024_dX_0830_0900.csv'\n",
    "with open(f'pNeuma/{fname}') as f:\n",
    "    basedate = get_basedate(fname)\n",
    "    # Print column names\n",
    "    print(f.readline())\n",
    "    for i in range(1):\n",
    "        line = f.readline().strip().split(';')[:-1]\n",
    "    track_id, type_, traveled_d, avg_speed = line[:4]\n",
    "    lat = np.array(line[4::6], dtype=float)\n",
    "    lon = np.array(line[5::6], dtype=float)\n",
    "    speed = np.array(line[6::6], dtype=float)\n",
    "    lon_acc = np.array(line[7::6], dtype=float)\n",
    "    lat_acc = np.array(line[8::6], dtype=float)\n",
    "    # It seems time in secs from the start of the experiment\n",
    "    time = np.array(line[9::6], dtype=float)\n",
    "    points = gpd.points_from_xy(lon, lat, crs='EPSG:4326')\n",
    "    # Build time stamped points as a list of dicts\n",
    "    # Convert seconds into hour, minute, second, microsecond\n",
    "    \n",
    "    traj = [{'geometry':p, 't':basedate + timedelta(seconds=t)} \n",
    "            for p, t in zip(points,time)]\n",
    "traj\n"
   ]
  }
 ],
 "metadata": {
  "kernelspec": {
   "display_name": "Python 3",
   "language": "python",
   "name": "python3"
  },
  "language_info": {
   "codemirror_mode": {
    "name": "ipython",
    "version": 3
   },
   "file_extension": ".py",
   "mimetype": "text/x-python",
   "name": "python",
   "nbconvert_exporter": "python",
   "pygments_lexer": "ipython3",
   "version": "3.8.6"
  }
 },
 "nbformat": 4,
 "nbformat_minor": 5
}
