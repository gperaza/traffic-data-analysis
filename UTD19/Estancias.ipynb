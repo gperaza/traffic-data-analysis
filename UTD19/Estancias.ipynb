{
 "cells": [
  {
   "cell_type": "markdown",
   "metadata": {},
   "source": [
    "# UTD19: Understanding traffic capacity of urban networks"
   ]
  },
  {
   "cell_type": "markdown",
   "metadata": {},
   "source": [
    "## Summary"
   ]
  },
  {
   "cell_type": "markdown",
   "metadata": {},
   "source": [
    "UTD19 is a large-scale traffic dataset from over 23541 stationary detectors on urban roads in 40 cities worldwide making it the largest multi-city traffic dataset publically available. The data mainly consists of measurements from loop detectors, which record vehicle flow and occupancy (or speed) in relatively small aggregation interval, typically 3-5min. The data have been collected in 40 cities by 23541 detectors, which are stationary traffic sensors, namely inductive loop detectors, supersonic detectors, cameras, bluetooth detectors or similar, among others. All this data have been collected from 2017 to 2019, in other words, we are going to work with 3.8 years of data in this dataset.\n",
    "\n",
    "This dataset has provided us at least two out of the three fundamental traffic variablesspeed, flow and density of each city. In case of density, the sensors usually report occupancy levels, the fraction of time a detector is occupied, during an observation period.For most of the cities, the flow-occupancy datasets are received directly from the local authorities, while for other cities APIs or the OpenData access points have been used.\n",
    "\n",
    "The cities from which we obtained tha data are: \n",
    "* Augsburg \n",
    "* Basel \n",
    "* Bern \n",
    "* Birmingham\n",
    "* Bolton\n",
    "* Bordeaux\n",
    "* Bremen\n",
    "* Cagliari\n",
    "* Constance\n",
    "* Darmstadt\n",
    "* Essen\n",
    "* Frankfurt\n",
    "* Graz\n",
    "* Groningen\n",
    "* Hamburg\n",
    "* Innsbruck\n",
    "* Kassel\n",
    "* London\n",
    "* Los Angeles\n",
    "* Luzern\n",
    "* Madrid'\n",
    "* Melbourne\n",
    "* Manchester\n",
    "* Marseille\n",
    "* Munich\n",
    "* Paris\n",
    "* Rotterdam\n",
    "* Santander\n",
    "* Speyer\n",
    "* Strasbourg\n",
    "* Stuttgart\n",
    "* Taipeh\n",
    "* Tokyo\n",
    "* Torino\n",
    "* Toronto\n",
    "* Toulouse\n",
    "* Utrecht\n",
    "* Vilnius\n",
    "* Wolfsburg\n",
    "* Zurich\n",
    "\n",
    "Also this dataset provide us the location ofthe sensor with respect to the road network. This data did easier obtain more data like the road name for attribute (variable road), the functional road class for attribute (variable fclass) and the speed limit (variable limit) when available.\n",
    "\n",
    "It is important to mention that this dataset is composed by three csvs, one called detectors in which we have the data about the location and information of the detectors that were used to collect the information. Other csv called links, in which we have data that relate or link the dataset detectors and the dataset UTD19. The last csv that compose this dataset is the UTD19 in which we have the data collected by the detectors in the different cities. Now we know that we are going to work with one of the most complete datasets, or the most complete dataset about the traffic, to do the analysis and understand the traffic capacity of the urban networks."
   ]
  },
  {
   "cell_type": "markdown",
   "metadata": {},
   "source": [
    "## Dictionary"
   ]
  },
  {
   "cell_type": "markdown",
   "metadata": {},
   "source": [
    "### UTD19\n",
    "\n",
    "Traffic measurements with original and filtered data. Note that not all detectors report\n",
    "occupancy, speed and flow, i.e., where no data was recorded or is available, missing values are\n",
    "stored. Detectors do not provide all variables at every interval. Some detectors that only provide\n",
    "flow and occupancy while others report flow and speed. In some cases (e.g., Melbourne), loops\n",
    "provide either flow or speed.\n",
    "\n",
    "Records: 168074643. \n",
    "\n",
    "Columns: 8.\n"
   ]
  },
  {
   "cell_type": "markdown",
   "metadata": {},
   "source": [
    "* **City**: Name of the city. $\\rightarrow$ *Dtype Object*\n",
    "* **Detid**: Detector identificiation. $\\rightarrow$ *Dtype Object* \n",
    "* **Day**: Day of recording. $\\rightarrow$ *Dtype Object* \n",
    "* **Interval**: Beginning of recording interval in seconds from midnight.  $\\rightarrow$ *Dtype Int64* \n",
    "* **Flow**: Flow in vehicles per hour for that detector.  $\\rightarrow$ *Dtype Float64* \n",
    "* **Occ**: Detector occupancy.  $\\rightarrow$ *Dtype Float64* \n",
    "* **Speed**: Average speed in recording interval in km per hour. $\\rightarrow$ *Dtype Float64* \n",
    "* **Error**: identified or reported error if a non-missing value is reported.  $\\rightarrow$ *Dtype Float64* "
   ]
  },
  {
   "cell_type": "markdown",
   "metadata": {},
   "source": [
    "### Detectors\n",
    "\n",
    "Geospatial information about detector location with OpenStreetMap attributes and\n",
    "lat-long coordinates. Linked to measurements via detid and to links via linkid.\n",
    "\n",
    "Records: 23626.\n",
    "\n",
    "Columns: 11.\n"
   ]
  },
  {
   "cell_type": "markdown",
   "metadata": {},
   "source": [
    "* **Detid**: Detector identificiation. $\\rightarrow$ *Dtype Object* \n",
    "* **Citycode**: Name of the city. $\\rightarrow$ *Dtype Object* \n",
    "* **Length**: Length of the monitored lane in km. $\\rightarrow$ *Dtype Float64* \n",
    "* **Pos**: Distance to downstream traffic signal in km. $\\rightarrow$ *Dtype Float64* \n",
    "* **Long**: Longitude of detector location. $\\rightarrow$ *Dtype Float64* \n",
    "* **Lat**: Latitude of detector location. $\\rightarrow$ *Dtype Float64* \n",
    "* **Lanes**: Number of lanes monitored. $\\rightarrow$ *Dtype Float64* \n",
    "* **Linkid**: Link id of the monitored lane. $\\rightarrow$ *Dtype Float64* \n",
    "* **Fclass**: OpenStreetMap’s functional road class classification.  $\\rightarrow$ *Dtype Object* \n",
    "* **Road**: Road name. $\\rightarrow$ *Dtype Object* \n",
    "* **Limit**: Speed limit, if available. $\\rightarrow$ *Dtype Object* "
   ]
  },
  {
   "cell_type": "markdown",
   "metadata": {},
   "source": [
    "### Links\n",
    "\n",
    "Spatial lines object for each monitored traffic lane or link converted to a text file.\n",
    "Linked to detectors via linkid. Detectors not matched to a link or lane have a missing value for\n",
    "the linkid. Order of poitns in direction of traffic.\n",
    "\n",
    "Records: 140858. \n",
    "\n",
    "Columns: 7.\n"
   ]
  },
  {
   "cell_type": "markdown",
   "metadata": {},
   "source": [
    "* **Citycode**: Name of the city. $\\rightarrow$ *Dtype Object* \n",
    "* **Linkid**: Link id of the monitored lane. $\\rightarrow$ *Dtype Int64* \n",
    "* **Order**: Order of waypoint sequence. $\\rightarrow$ *Dtype Int64* \n",
    "* **Piece**: Spatial feature number of that link id. $\\rightarrow$ *Dtype Int64* \n",
    "* **Group**: Group number of that spatial feature. $\\rightarrow$ *Dtype Float64* \n",
    "* **Long**: Longitude of waypoint. $\\rightarrow$ *Dtype Float64* \n",
    "* **Lat**: Latitude of waypoint. $\\rightarrow$ *Dtype Float64* "
   ]
  },
  {
   "cell_type": "code",
   "execution_count": 4,
   "metadata": {},
   "outputs": [],
   "source": [
    "import pandas as pd\n",
    "import numpy as np"
   ]
  },
  {
   "cell_type": "code",
   "execution_count": 5,
   "metadata": {},
   "outputs": [],
   "source": [
    "utd = pd.read_csv('UTD19.csv', sep=',', na_values = np.nan, dtype = {'detid':str})\n",
    "dtc = pd.read_csv(\"detectors_public.csv\", sep=',', na_values=np.nan)\n",
    "links = pd.read_csv(\"links.csv\", sep=',', na_values=np.nan)"
   ]
  },
  {
   "cell_type": "code",
   "execution_count": 6,
   "metadata": {},
   "outputs": [
    {
     "data": {
      "text/plain": [
       "(168074643, 8)"
      ]
     },
     "execution_count": 6,
     "metadata": {},
     "output_type": "execute_result"
    }
   ],
   "source": [
    "utd.shape"
   ]
  },
  {
   "cell_type": "code",
   "execution_count": 7,
   "metadata": {},
   "outputs": [
    {
     "name": "stdout",
     "output_type": "stream",
     "text": [
      "<class 'pandas.core.frame.DataFrame'>\n",
      "RangeIndex: 168074643 entries, 0 to 168074642\n",
      "Data columns (total 8 columns):\n",
      " #   Column    Dtype  \n",
      "---  ------    -----  \n",
      " 0   day       object \n",
      " 1   interval  int64  \n",
      " 2   detid     object \n",
      " 3   flow      float64\n",
      " 4   occ       float64\n",
      " 5   error     float64\n",
      " 6   city      object \n",
      " 7   speed     float64\n",
      "dtypes: float64(4), int64(1), object(3)\n",
      "memory usage: 10.0+ GB\n"
     ]
    }
   ],
   "source": [
    "utd.info()"
   ]
  },
  {
   "cell_type": "code",
   "execution_count": 8,
   "metadata": {},
   "outputs": [
    {
     "data": {
      "text/plain": [
       "day                 0\n",
       "interval            0\n",
       "detid               0\n",
       "flow                0\n",
       "occ           3279527\n",
       "error        82288700\n",
       "city                0\n",
       "speed       163444688\n",
       "dtype: int64"
      ]
     },
     "execution_count": 8,
     "metadata": {},
     "output_type": "execute_result"
    }
   ],
   "source": [
    "utd.isnull().sum()"
   ]
  },
  {
   "cell_type": "code",
   "execution_count": 9,
   "metadata": {},
   "outputs": [
    {
     "data": {
      "text/plain": [
       "(23626, 11)"
      ]
     },
     "execution_count": 9,
     "metadata": {},
     "output_type": "execute_result"
    }
   ],
   "source": [
    "dtc.shape"
   ]
  },
  {
   "cell_type": "code",
   "execution_count": 10,
   "metadata": {},
   "outputs": [
    {
     "name": "stdout",
     "output_type": "stream",
     "text": [
      "<class 'pandas.core.frame.DataFrame'>\n",
      "RangeIndex: 23626 entries, 0 to 23625\n",
      "Data columns (total 11 columns):\n",
      " #   Column    Non-Null Count  Dtype  \n",
      "---  ------    --------------  -----  \n",
      " 0   detid     23626 non-null  object \n",
      " 1   length    23626 non-null  float64\n",
      " 2   pos       23581 non-null  float64\n",
      " 3   fclass    23626 non-null  object \n",
      " 4   road      22085 non-null  object \n",
      " 5   limit     16994 non-null  object \n",
      " 6   citycode  23626 non-null  object \n",
      " 7   lanes     23622 non-null  float64\n",
      " 8   linkid    23021 non-null  float64\n",
      " 9   long      23626 non-null  float64\n",
      " 10  lat       23626 non-null  float64\n",
      "dtypes: float64(6), object(5)\n",
      "memory usage: 2.0+ MB\n"
     ]
    }
   ],
   "source": [
    "dtc.info()"
   ]
  },
  {
   "cell_type": "code",
   "execution_count": 11,
   "metadata": {},
   "outputs": [
    {
     "data": {
      "text/plain": [
       "detid          0\n",
       "length         0\n",
       "pos           45\n",
       "fclass         0\n",
       "road        1541\n",
       "limit       6632\n",
       "citycode       0\n",
       "lanes          4\n",
       "linkid       605\n",
       "long           0\n",
       "lat            0\n",
       "dtype: int64"
      ]
     },
     "execution_count": 11,
     "metadata": {},
     "output_type": "execute_result"
    }
   ],
   "source": [
    "dtc.isnull().sum()"
   ]
  },
  {
   "cell_type": "code",
   "execution_count": 12,
   "metadata": {},
   "outputs": [
    {
     "data": {
      "text/plain": [
       "(140858, 7)"
      ]
     },
     "execution_count": 12,
     "metadata": {},
     "output_type": "execute_result"
    }
   ],
   "source": [
    "links.shape"
   ]
  },
  {
   "cell_type": "code",
   "execution_count": 13,
   "metadata": {},
   "outputs": [
    {
     "name": "stdout",
     "output_type": "stream",
     "text": [
      "<class 'pandas.core.frame.DataFrame'>\n",
      "RangeIndex: 140858 entries, 0 to 140857\n",
      "Data columns (total 7 columns):\n",
      " #   Column    Non-Null Count   Dtype  \n",
      "---  ------    --------------   -----  \n",
      " 0   long      140858 non-null  float64\n",
      " 1   lat       140858 non-null  float64\n",
      " 2   order     140858 non-null  int64  \n",
      " 3   piece     140858 non-null  int64  \n",
      " 4   linkid    140858 non-null  int64  \n",
      " 5   group     140858 non-null  float64\n",
      " 6   citycode  140858 non-null  object \n",
      "dtypes: float64(3), int64(3), object(1)\n",
      "memory usage: 7.5+ MB\n"
     ]
    }
   ],
   "source": [
    "links.info()"
   ]
  },
  {
   "cell_type": "code",
   "execution_count": 14,
   "metadata": {},
   "outputs": [
    {
     "data": {
      "text/plain": [
       "long        0\n",
       "lat         0\n",
       "order       0\n",
       "piece       0\n",
       "linkid      0\n",
       "group       0\n",
       "citycode    0\n",
       "dtype: int64"
      ]
     },
     "execution_count": 14,
     "metadata": {},
     "output_type": "execute_result"
    }
   ],
   "source": [
    "links.isnull().sum()"
   ]
  },
  {
   "cell_type": "code",
   "execution_count": null,
   "metadata": {},
   "outputs": [],
   "source": []
  }
 ],
 "metadata": {
  "kernelspec": {
   "display_name": "Python 3",
   "language": "python",
   "name": "python3"
  },
  "language_info": {
   "codemirror_mode": {
    "name": "ipython",
    "version": 3
   },
   "file_extension": ".py",
   "mimetype": "text/x-python",
   "name": "python",
   "nbconvert_exporter": "python",
   "pygments_lexer": "ipython3",
   "version": "3.7.3"
  }
 },
 "nbformat": 4,
 "nbformat_minor": 4
}
