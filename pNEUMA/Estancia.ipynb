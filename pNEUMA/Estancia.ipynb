{
 "cells": [
  {
   "cell_type": "markdown",
   "metadata": {},
   "source": [
    "# pNeuma understanding the urban traffic monitoring with massive drone data"
   ]
  },
  {
   "cell_type": "markdown",
   "metadata": {},
   "source": [
    "## Summary: \n",
    "When it comes to transportation data, it is emphasized that traffic monitoring and analysis are one of the most important tools. And there are different techniques to collect data from traffic, such as cameras, sensors, GPS, and Unmanned Aerial Systems or called drones.\n",
    "\n",
    "The pNeuma (New Era of Urban traffic Monitoring with Aerial footage) is an urban dataset to study congestion focused on the use of drones. The goal of this experiment is to record traffic streams in a multi-modal congested environment over an urban setting using UAS that can allow the deep investigation of critical traffic phenomena.\n",
    "\n",
    "The advantages of the use of drones are that the use of expensive satellites is not necessary, they can be equipped with communication systems to inform commuters in real-time and they have great capabilities in data acquisition. The term \"swarm of drones\" is used to refer to a coordinated team of drones flying together without colliding to perform a task, for that reason these are perfect to monitor traffic congestion in different parts of a congested city.\n",
    "\n",
    "The chosen place for this experiment was the central district of the city of Athens, Greece was selected as an urban, multimodal, busy environment that can allow different kinds of transportation phenomena to be examined in which there are 6 types of vehicles that are Car, Taxi, Bus, Medium Vehicle, Heavy Vehicle, Motorcycle. The pNeuma uses a swarm of 10 drones hovering over the city over five days to record traffic streams in a congested area of a 1.3km^2 area with more than 100 km-lanes of road network, around 100 busy intersections (signalized or not), more than 30 bus stops and close to half a million trajectories. \n",
    "\n",
    "Drones allow to analyze different traffic parameters, such as speed, flow, density, shockwaves, signal cycle length, queue lengths, queue dissipation time etc. and capacity by generating origin-destination (OD) matrices in the scenario of urban roundabouts and four-legged intersections.\n",
    "\n",
    "Given the city regulations, the data was captured in the morning peak (8:00-10:30) for each working day of a week. It was important to consider that drones are not able to record the traffic stream for 2.5 hours continuously, so the alternative was to fly the swarm in sequential sessions with 'blind' gaps between, so it was expected that 10 minutes of each 30 minutes of no data would cause no significant issues. \n",
    "\n",
    "On the official page of pNeuma we can find the different types of datasets that were captured by each drone in its respective area. The .csv is organized such that each row represents the data of a single vehicle, the first 10 columns in the 1st row include the columns’ names, the first 4 columns include information about the trajectory like the unique trackID, the type of vehicle, the distance traveled and the average speed of the vehicle, the last 6 columns are then repeated every 6 columns based on the time frequency. They can be downloaded depending on a selected date, and the time the capture was made. \n"
   ]
  },
  {
   "cell_type": "markdown",
   "metadata": {},
   "source": [
    "## Data Dictionary:\n",
    "\n",
    "| Data       | Data Type | Description |Atributes/Measures|   |\n",
    "|------------|------|-------------|---------|---|\n",
    "| track_id   |Integer|Track Id of the type of vehicle|Specific \"Id\" to identify the vehicle type|   |\n",
    "| Type       |String|Type of Vehicle|Car, Taxi, Bus, Medium Vehicle, Heavy Vehicle, Motorcycle.|   |\n",
    "| traveled_d |Float|Distance Traveled for the Vehicle|Meters|   |\n",
    "| lat        |Float|Geographic coodinate of one point from north to south in the earth superfice|Degrees ° (Coordinates in WGS-84)|   |\n",
    "| lon        |Float|Geographic coordinate of one point from east to west in the earth superfice|Degrees ° (Coordinates in WGS-84)|   |\n",
    "| speed      |Float|Velocity of movement of the vehicle|kilometers per hours(Km/hours)|   |\n",
    "| lon_acc    |Float|Flat coordinates| meters/sec^2|   |\n",
    "| lat_acc    |Float|Flat coordinates|meters/sec^2|   |\n",
    "| time       |Float|Time took for the vehicle to move that final distance|Seconds (S)|   |"
   ]
  },
  {
   "cell_type": "code",
   "execution_count": 22,
   "metadata": {},
   "outputs": [],
   "source": [
    "# Importing libraries \n",
    "import pandas as pd\n",
    "import numpy as np \n",
    "import matplotlib.pyplot as plt\n",
    "import matplotlib.image as image\n",
    "import seaborn as sns"
   ]
  },
  {
   "cell_type": "code",
   "execution_count": 2,
   "metadata": {},
   "outputs": [],
   "source": [
    "def transform(x):\n",
    "    \"\"\"\n",
    "    This function take the value divided by the delimiter ';' and return the best data type\n",
    "    \"\"\"\n",
    "    try: return float(x)\n",
    "    except: return x "
   ]
  },
  {
   "cell_type": "code",
   "execution_count": 3,
   "metadata": {},
   "outputs": [],
   "source": [
    "datos = {}\n",
    "columns= [ \"track_id\", \"type\", \"traveled_d\", \"avg_speed\", \"lat\", \"lon\", \"speed\", \"lon_acc\", \"lat_acc\", \"time\"]"
   ]
  },
  {
   "cell_type": "code",
   "execution_count": 8,
   "metadata": {},
   "outputs": [],
   "source": [
    "# Opening File\n",
    "with open(\"20181101_d1_0800_0830.csv\") as data:\n",
    "    # Reading the lines\n",
    "    for idx,line in enumerate(data.readlines()):\n",
    "        # Skipping the columns names\n",
    "        if idx>0: \n",
    "            # Fixing the index\n",
    "            idx -=1\n",
    "            #Replacing\n",
    "            line = line.replace(\"\\n\", \"\")\n",
    "            line = line.replace(\" \", \"\")\n",
    "            # Dividing the values\n",
    "            data_line = line.split(\";\")\n",
    "            # Correcting the data type\n",
    "            data_line = [transform(x) for x in data_line]\n",
    "            #Assigning the correct values\n",
    "            aux = {columns[0]:data_line[0],\n",
    "                   columns[1]:data_line[1], \n",
    "                   columns[2]:data_line[2], \n",
    "                   columns[3]:data_line[3], \n",
    "                   columns[4]:data_line[4],\n",
    "                  columns[5]:data_line[5],\n",
    "                   columns[6]:data_line[6],\n",
    "                   columns[7]:data_line[7],\n",
    "                   columns[8]:data_line[8],\n",
    "                  columns[9]:data_line[9],\n",
    "                  \"extra\":data_line[10:]}\n",
    "            datos[idx] = aux\n",
    "    # Closing the file\n",
    "    data.close()"
   ]
  },
  {
   "cell_type": "code",
   "execution_count": 9,
   "metadata": {},
   "outputs": [],
   "source": [
    "# Creating the dataframe\n",
    "neuma =pd.DataFrame(datos).T"
   ]
  },
  {
   "cell_type": "code",
   "execution_count": 10,
   "metadata": {},
   "outputs": [
    {
     "data": {
      "text/html": [
       "<div>\n",
       "<style scoped>\n",
       "    .dataframe tbody tr th:only-of-type {\n",
       "        vertical-align: middle;\n",
       "    }\n",
       "\n",
       "    .dataframe tbody tr th {\n",
       "        vertical-align: top;\n",
       "    }\n",
       "\n",
       "    .dataframe thead th {\n",
       "        text-align: right;\n",
       "    }\n",
       "</style>\n",
       "<table border=\"1\" class=\"dataframe\">\n",
       "  <thead>\n",
       "    <tr style=\"text-align: right;\">\n",
       "      <th></th>\n",
       "      <th>track_id</th>\n",
       "      <th>type</th>\n",
       "      <th>traveled_d</th>\n",
       "      <th>avg_speed</th>\n",
       "      <th>lat</th>\n",
       "      <th>lon</th>\n",
       "      <th>speed</th>\n",
       "      <th>lon_acc</th>\n",
       "      <th>lat_acc</th>\n",
       "      <th>time</th>\n",
       "      <th>extra</th>\n",
       "    </tr>\n",
       "  </thead>\n",
       "  <tbody>\n",
       "    <tr>\n",
       "      <th>0</th>\n",
       "      <td>1</td>\n",
       "      <td>Motorcycle</td>\n",
       "      <td>107.61</td>\n",
       "      <td>17.6086</td>\n",
       "      <td>37.9775</td>\n",
       "      <td>23.7371</td>\n",
       "      <td>13.4787</td>\n",
       "      <td>0.0466</td>\n",
       "      <td>-0.066</td>\n",
       "      <td>38.4</td>\n",
       "      <td>[37.977484, 23.737107, 13.4811, 0.0383, -0.071...</td>\n",
       "    </tr>\n",
       "    <tr>\n",
       "      <th>1</th>\n",
       "      <td>2</td>\n",
       "      <td>Car</td>\n",
       "      <td>20.82</td>\n",
       "      <td>20.8205</td>\n",
       "      <td>37.9773</td>\n",
       "      <td>23.7378</td>\n",
       "      <td>18.8439</td>\n",
       "      <td>-0.1994</td>\n",
       "      <td>0.3039</td>\n",
       "      <td>39</td>\n",
       "      <td>[37.977303, 23.737758, 18.8316, -0.1754, 0.326...</td>\n",
       "    </tr>\n",
       "    <tr>\n",
       "      <th>2</th>\n",
       "      <td>3</td>\n",
       "      <td>Car</td>\n",
       "      <td>66.16</td>\n",
       "      <td>13.3808</td>\n",
       "      <td>37.9776</td>\n",
       "      <td>23.7376</td>\n",
       "      <td>20.0741</td>\n",
       "      <td>0.4261</td>\n",
       "      <td>-0.1982</td>\n",
       "      <td>39</td>\n",
       "      <td>[37.977592, 23.737563, 20.1005, 0.3749, -0.215...</td>\n",
       "    </tr>\n",
       "    <tr>\n",
       "      <th>3</th>\n",
       "      <td>4</td>\n",
       "      <td>Motorcycle</td>\n",
       "      <td>9.36</td>\n",
       "      <td>33.6855</td>\n",
       "      <td>37.9772</td>\n",
       "      <td>23.7378</td>\n",
       "      <td>35.0891</td>\n",
       "      <td>0</td>\n",
       "      <td>0</td>\n",
       "      <td>39</td>\n",
       "      <td>[37.977202, 23.737833, 35.0891, 0.0, -0.0, 39....</td>\n",
       "    </tr>\n",
       "    <tr>\n",
       "      <th>4</th>\n",
       "      <td>5</td>\n",
       "      <td>Motorcycle</td>\n",
       "      <td>38.18</td>\n",
       "      <td>31.2405</td>\n",
       "      <td>37.9774</td>\n",
       "      <td>23.7377</td>\n",
       "      <td>33.1028</td>\n",
       "      <td>0.16</td>\n",
       "      <td>0.2156</td>\n",
       "      <td>39</td>\n",
       "      <td>[37.977441, 23.737687, 33.1146, 0.151, 0.2328,...</td>\n",
       "    </tr>\n",
       "  </tbody>\n",
       "</table>\n",
       "</div>"
      ],
      "text/plain": [
       "  track_id        type traveled_d avg_speed      lat      lon    speed  \\\n",
       "0        1  Motorcycle     107.61   17.6086  37.9775  23.7371  13.4787   \n",
       "1        2         Car      20.82   20.8205  37.9773  23.7378  18.8439   \n",
       "2        3         Car      66.16   13.3808  37.9776  23.7376  20.0741   \n",
       "3        4  Motorcycle       9.36   33.6855  37.9772  23.7378  35.0891   \n",
       "4        5  Motorcycle      38.18   31.2405  37.9774  23.7377  33.1028   \n",
       "\n",
       "  lon_acc lat_acc  time                                              extra  \n",
       "0  0.0466  -0.066  38.4  [37.977484, 23.737107, 13.4811, 0.0383, -0.071...  \n",
       "1 -0.1994  0.3039    39  [37.977303, 23.737758, 18.8316, -0.1754, 0.326...  \n",
       "2  0.4261 -0.1982    39  [37.977592, 23.737563, 20.1005, 0.3749, -0.215...  \n",
       "3       0       0    39  [37.977202, 23.737833, 35.0891, 0.0, -0.0, 39....  \n",
       "4    0.16  0.2156    39  [37.977441, 23.737687, 33.1146, 0.151, 0.2328,...  "
      ]
     },
     "execution_count": 10,
     "metadata": {},
     "output_type": "execute_result"
    }
   ],
   "source": [
    "neuma.head()"
   ]
  },
  {
   "cell_type": "code",
   "execution_count": 11,
   "metadata": {},
   "outputs": [
    {
     "name": "stdout",
     "output_type": "stream",
     "text": [
      "The shape of dataset is 785 instances and 11 columns\n"
     ]
    }
   ],
   "source": [
    "print(f'The shape of dataset is {neuma.shape[0]} instances and {neuma.shape[1]} columns')"
   ]
  },
  {
   "cell_type": "code",
   "execution_count": 12,
   "metadata": {},
   "outputs": [
    {
     "data": {
      "text/html": [
       "<div>\n",
       "<style scoped>\n",
       "    .dataframe tbody tr th:only-of-type {\n",
       "        vertical-align: middle;\n",
       "    }\n",
       "\n",
       "    .dataframe tbody tr th {\n",
       "        vertical-align: top;\n",
       "    }\n",
       "\n",
       "    .dataframe thead th {\n",
       "        text-align: right;\n",
       "    }\n",
       "</style>\n",
       "<table border=\"1\" class=\"dataframe\">\n",
       "  <thead>\n",
       "    <tr style=\"text-align: right;\">\n",
       "      <th></th>\n",
       "      <th>count</th>\n",
       "      <th>unique</th>\n",
       "      <th>top</th>\n",
       "      <th>freq</th>\n",
       "    </tr>\n",
       "  </thead>\n",
       "  <tbody>\n",
       "    <tr>\n",
       "      <th>track_id</th>\n",
       "      <td>785</td>\n",
       "      <td>785</td>\n",
       "      <td>802</td>\n",
       "      <td>1</td>\n",
       "    </tr>\n",
       "    <tr>\n",
       "      <th>type</th>\n",
       "      <td>785</td>\n",
       "      <td>6</td>\n",
       "      <td>Car</td>\n",
       "      <td>443</td>\n",
       "    </tr>\n",
       "    <tr>\n",
       "      <th>traveled_d</th>\n",
       "      <td>785</td>\n",
       "      <td>762</td>\n",
       "      <td>68.79</td>\n",
       "      <td>2</td>\n",
       "    </tr>\n",
       "    <tr>\n",
       "      <th>avg_speed</th>\n",
       "      <td>785</td>\n",
       "      <td>785</td>\n",
       "      <td>20.6925</td>\n",
       "      <td>1</td>\n",
       "    </tr>\n",
       "    <tr>\n",
       "      <th>lat</th>\n",
       "      <td>785</td>\n",
       "      <td>283</td>\n",
       "      <td>37.9783</td>\n",
       "      <td>21</td>\n",
       "    </tr>\n",
       "    <tr>\n",
       "      <th>lon</th>\n",
       "      <td>785</td>\n",
       "      <td>319</td>\n",
       "      <td>23.7354</td>\n",
       "      <td>18</td>\n",
       "    </tr>\n",
       "    <tr>\n",
       "      <th>speed</th>\n",
       "      <td>785</td>\n",
       "      <td>780</td>\n",
       "      <td>0</td>\n",
       "      <td>6</td>\n",
       "    </tr>\n",
       "    <tr>\n",
       "      <th>lon_acc</th>\n",
       "      <td>785</td>\n",
       "      <td>709</td>\n",
       "      <td>0</td>\n",
       "      <td>16</td>\n",
       "    </tr>\n",
       "    <tr>\n",
       "      <th>lat_acc</th>\n",
       "      <td>785</td>\n",
       "      <td>628</td>\n",
       "      <td>0</td>\n",
       "      <td>15</td>\n",
       "    </tr>\n",
       "    <tr>\n",
       "      <th>time</th>\n",
       "      <td>785</td>\n",
       "      <td>684</td>\n",
       "      <td>39</td>\n",
       "      <td>22</td>\n",
       "    </tr>\n",
       "    <tr>\n",
       "      <th>extra</th>\n",
       "      <td>785</td>\n",
       "      <td>785</td>\n",
       "      <td>[37.978352, 23.73542, 35.4344, 0.1024, -0.0408...</td>\n",
       "      <td>1</td>\n",
       "    </tr>\n",
       "  </tbody>\n",
       "</table>\n",
       "</div>"
      ],
      "text/plain": [
       "           count unique                                                top  \\\n",
       "track_id     785    785                                                802   \n",
       "type         785      6                                                Car   \n",
       "traveled_d   785    762                                              68.79   \n",
       "avg_speed    785    785                                            20.6925   \n",
       "lat          785    283                                            37.9783   \n",
       "lon          785    319                                            23.7354   \n",
       "speed        785    780                                                  0   \n",
       "lon_acc      785    709                                                  0   \n",
       "lat_acc      785    628                                                  0   \n",
       "time         785    684                                                 39   \n",
       "extra        785    785  [37.978352, 23.73542, 35.4344, 0.1024, -0.0408...   \n",
       "\n",
       "           freq  \n",
       "track_id      1  \n",
       "type        443  \n",
       "traveled_d    2  \n",
       "avg_speed     1  \n",
       "lat          21  \n",
       "lon          18  \n",
       "speed         6  \n",
       "lon_acc      16  \n",
       "lat_acc      15  \n",
       "time         22  \n",
       "extra         1  "
      ]
     },
     "execution_count": 12,
     "metadata": {},
     "output_type": "execute_result"
    }
   ],
   "source": [
    "neuma.describe().T"
   ]
  },
  {
   "cell_type": "code",
   "execution_count": 13,
   "metadata": {},
   "outputs": [
    {
     "data": {
      "text/plain": [
       "track_id      0\n",
       "type          0\n",
       "traveled_d    0\n",
       "avg_speed     0\n",
       "lat           0\n",
       "lon           0\n",
       "speed         0\n",
       "lon_acc       0\n",
       "lat_acc       0\n",
       "time          0\n",
       "extra         0\n",
       "dtype: int64"
      ]
     },
     "execution_count": 13,
     "metadata": {},
     "output_type": "execute_result"
    }
   ],
   "source": [
    "# Looking for NaN values\n",
    "neuma.isnull().sum()"
   ]
  },
  {
   "cell_type": "code",
   "execution_count": 15,
   "metadata": {},
   "outputs": [
    {
     "data": {
      "text/html": [
       "<div>\n",
       "<style scoped>\n",
       "    .dataframe tbody tr th:only-of-type {\n",
       "        vertical-align: middle;\n",
       "    }\n",
       "\n",
       "    .dataframe tbody tr th {\n",
       "        vertical-align: top;\n",
       "    }\n",
       "\n",
       "    .dataframe thead th {\n",
       "        text-align: right;\n",
       "    }\n",
       "</style>\n",
       "<table border=\"1\" class=\"dataframe\">\n",
       "  <thead>\n",
       "    <tr style=\"text-align: right;\">\n",
       "      <th></th>\n",
       "      <th>track_id</th>\n",
       "      <th>type</th>\n",
       "      <th>traveled_d</th>\n",
       "      <th>avg_speed</th>\n",
       "      <th>lat</th>\n",
       "      <th>lon</th>\n",
       "      <th>speed</th>\n",
       "      <th>lon_acc</th>\n",
       "      <th>lat_acc</th>\n",
       "      <th>time</th>\n",
       "      <th>extra</th>\n",
       "    </tr>\n",
       "  </thead>\n",
       "  <tbody>\n",
       "    <tr>\n",
       "      <th>0</th>\n",
       "      <td>1</td>\n",
       "      <td>Motorcycle</td>\n",
       "      <td>107.61</td>\n",
       "      <td>17.6086</td>\n",
       "      <td>37.9775</td>\n",
       "      <td>23.7371</td>\n",
       "      <td>13.4787</td>\n",
       "      <td>0.0466</td>\n",
       "      <td>-0.066</td>\n",
       "      <td>38.4</td>\n",
       "      <td>[37.977484, 23.737107, 13.4811, 0.0383, -0.071...</td>\n",
       "    </tr>\n",
       "    <tr>\n",
       "      <th>1</th>\n",
       "      <td>2</td>\n",
       "      <td>Car</td>\n",
       "      <td>20.82</td>\n",
       "      <td>20.8205</td>\n",
       "      <td>37.9773</td>\n",
       "      <td>23.7378</td>\n",
       "      <td>18.8439</td>\n",
       "      <td>-0.1994</td>\n",
       "      <td>0.3039</td>\n",
       "      <td>39</td>\n",
       "      <td>[37.977303, 23.737758, 18.8316, -0.1754, 0.326...</td>\n",
       "    </tr>\n",
       "    <tr>\n",
       "      <th>2</th>\n",
       "      <td>3</td>\n",
       "      <td>Car</td>\n",
       "      <td>66.16</td>\n",
       "      <td>13.3808</td>\n",
       "      <td>37.9776</td>\n",
       "      <td>23.7376</td>\n",
       "      <td>20.0741</td>\n",
       "      <td>0.4261</td>\n",
       "      <td>-0.1982</td>\n",
       "      <td>39</td>\n",
       "      <td>[37.977592, 23.737563, 20.1005, 0.3749, -0.215...</td>\n",
       "    </tr>\n",
       "    <tr>\n",
       "      <th>3</th>\n",
       "      <td>4</td>\n",
       "      <td>Motorcycle</td>\n",
       "      <td>9.36</td>\n",
       "      <td>33.6855</td>\n",
       "      <td>37.9772</td>\n",
       "      <td>23.7378</td>\n",
       "      <td>35.0891</td>\n",
       "      <td>0</td>\n",
       "      <td>0</td>\n",
       "      <td>39</td>\n",
       "      <td>[37.977202, 23.737833, 35.0891, 0.0, -0.0, 39....</td>\n",
       "    </tr>\n",
       "    <tr>\n",
       "      <th>4</th>\n",
       "      <td>5</td>\n",
       "      <td>Motorcycle</td>\n",
       "      <td>38.18</td>\n",
       "      <td>31.2405</td>\n",
       "      <td>37.9774</td>\n",
       "      <td>23.7377</td>\n",
       "      <td>33.1028</td>\n",
       "      <td>0.16</td>\n",
       "      <td>0.2156</td>\n",
       "      <td>39</td>\n",
       "      <td>[37.977441, 23.737687, 33.1146, 0.151, 0.2328,...</td>\n",
       "    </tr>\n",
       "  </tbody>\n",
       "</table>\n",
       "</div>"
      ],
      "text/plain": [
       "  track_id        type traveled_d avg_speed      lat      lon    speed  \\\n",
       "0        1  Motorcycle     107.61   17.6086  37.9775  23.7371  13.4787   \n",
       "1        2         Car      20.82   20.8205  37.9773  23.7378  18.8439   \n",
       "2        3         Car      66.16   13.3808  37.9776  23.7376  20.0741   \n",
       "3        4  Motorcycle       9.36   33.6855  37.9772  23.7378  35.0891   \n",
       "4        5  Motorcycle      38.18   31.2405  37.9774  23.7377  33.1028   \n",
       "\n",
       "  lon_acc lat_acc  time                                              extra  \n",
       "0  0.0466  -0.066  38.4  [37.977484, 23.737107, 13.4811, 0.0383, -0.071...  \n",
       "1 -0.1994  0.3039    39  [37.977303, 23.737758, 18.8316, -0.1754, 0.326...  \n",
       "2  0.4261 -0.1982    39  [37.977592, 23.737563, 20.1005, 0.3749, -0.215...  \n",
       "3       0       0    39  [37.977202, 23.737833, 35.0891, 0.0, -0.0, 39....  \n",
       "4    0.16  0.2156    39  [37.977441, 23.737687, 33.1146, 0.151, 0.2328,...  "
      ]
     },
     "execution_count": 15,
     "metadata": {},
     "output_type": "execute_result"
    }
   ],
   "source": [
    "neuma.head()"
   ]
  },
  {
   "cell_type": "code",
   "execution_count": 16,
   "metadata": {},
   "outputs": [
    {
     "name": "stdout",
     "output_type": "stream",
     "text": [
      "<class 'pandas.core.frame.DataFrame'>\n",
      "Int64Index: 785 entries, 0 to 784\n",
      "Data columns (total 11 columns):\n",
      " #   Column      Non-Null Count  Dtype \n",
      "---  ------      --------------  ----- \n",
      " 0   track_id    785 non-null    object\n",
      " 1   type        785 non-null    object\n",
      " 2   traveled_d  785 non-null    object\n",
      " 3   avg_speed   785 non-null    object\n",
      " 4   lat         785 non-null    object\n",
      " 5   lon         785 non-null    object\n",
      " 6   speed       785 non-null    object\n",
      " 7   lon_acc     785 non-null    object\n",
      " 8   lat_acc     785 non-null    object\n",
      " 9   time        785 non-null    object\n",
      " 10  extra       785 non-null    object\n",
      "dtypes: object(11)\n",
      "memory usage: 73.6+ KB\n"
     ]
    }
   ],
   "source": [
    "neuma.info()"
   ]
  },
  {
   "cell_type": "code",
   "execution_count": 17,
   "metadata": {},
   "outputs": [],
   "source": [
    "# Changing the data type of the columns\n",
    "neuma['traveled_d'] = neuma['traveled_d'].astype(float)\n",
    "neuma['avg_speed'] = neuma['avg_speed'].astype(float)\n",
    "neuma['lat'] = neuma['lat'].astype(float)\n",
    "neuma['lon'] = neuma['lon'].astype(float)\n",
    "neuma['speed'] = neuma['speed'].astype(float)\n",
    "neuma['lon_acc'] = neuma['lon_acc'].astype(float)\n",
    "neuma['lat_acc'] = neuma['lat_acc'].astype(float)\n",
    "neuma['time'] = neuma['time'].astype(float)"
   ]
  },
  {
   "cell_type": "code",
   "execution_count": 19,
   "metadata": {},
   "outputs": [
    {
     "name": "stdout",
     "output_type": "stream",
     "text": [
      "<class 'pandas.core.frame.DataFrame'>\n",
      "Int64Index: 785 entries, 0 to 784\n",
      "Data columns (total 11 columns):\n",
      " #   Column      Non-Null Count  Dtype  \n",
      "---  ------      --------------  -----  \n",
      " 0   track_id    785 non-null    object \n",
      " 1   type        785 non-null    object \n",
      " 2   traveled_d  785 non-null    float64\n",
      " 3   avg_speed   785 non-null    float64\n",
      " 4   lat         785 non-null    float64\n",
      " 5   lon         785 non-null    float64\n",
      " 6   speed       785 non-null    float64\n",
      " 7   lon_acc     785 non-null    float64\n",
      " 8   lat_acc     785 non-null    float64\n",
      " 9   time        785 non-null    float64\n",
      " 10  extra       785 non-null    object \n",
      "dtypes: float64(8), object(3)\n",
      "memory usage: 73.6+ KB\n"
     ]
    }
   ],
   "source": [
    "neuma.info()"
   ]
  },
  {
   "cell_type": "code",
   "execution_count": 20,
   "metadata": {},
   "outputs": [
    {
     "data": {
      "text/plain": [
       "Car              443\n",
       "Motorcycle       153\n",
       "Taxi             137\n",
       "MediumVehicle     30\n",
       "Bus               20\n",
       "HeavyVehicle       2\n",
       "Name: type, dtype: int64"
      ]
     },
     "execution_count": 20,
     "metadata": {},
     "output_type": "execute_result"
    }
   ],
   "source": [
    "# Total number of type of vehicle\n",
    "ax = neuma.type.value_counts()\n",
    "ax"
   ]
  },
  {
   "cell_type": "code",
   "execution_count": 23,
   "metadata": {},
   "outputs": [
    {
     "data": {
      "image/png": "[encoded data removed]",
      "text/plain": [
       "<Figure size 1080x360 with 1 Axes>"
      ]
     },
     "metadata": {
      "needs_background": "light"
     },
     "output_type": "display_data"
    }
   ],
   "source": [
    "# The number of vehicles per category\n",
    "fig, ax = plt.subplots(figsize=(15, 5))\n",
    "ax = neuma.type.value_counts().nlargest(10).plot(kind='bar', color=sns.color_palette('pastel',10), edgecolor='white') \n",
    "plt.title(\"Number per vehicle\\n\", size=14)\n",
    "plt.xlabel(\"\\nType\")\n",
    "plt.xticks(rotation=0)\n",
    "plt.ylabel(\"Quantity\\n\");\n",
    "\n",
    "ax.grid(axis='y', linestyle='-', linewidth=.1, color='black')\n",
    "plt.show()"
   ]
  },
  {
   "cell_type": "code",
   "execution_count": 24,
   "metadata": {},
   "outputs": [],
   "source": [
    "# Grouping by type of vehicle\n",
    "Cars = neuma.loc[neuma['type'] == \"Car\"]\n",
    "Motorcycle = neuma.loc[neuma['type'] == \"Motorcycle\"]\n",
    "Taxi = neuma.loc[neuma['type'] == \"Taxi\"]\n",
    "MediumVehicle = neuma.loc[neuma['type'] == \"MediumVehicle\"]\n",
    "Bus = neuma.loc[neuma['type'] == \"Bus\"]\n",
    "HeavyVehicle = neuma.loc[neuma['type'] == \"HeavyVehicle\"]"
   ]
  },
  {
   "cell_type": "code",
   "execution_count": 20,
   "metadata": {},
   "outputs": [],
   "source": [
    "x = neuma.loc[1].extra[0:-2:2]\n",
    "y = neuma.loc[1].extra[1::2]"
   ]
  },
  {
   "cell_type": "code",
   "execution_count": 21,
   "metadata": {},
   "outputs": [
    {
     "data": {
      "text/plain": [
       "<matplotlib.collections.PathCollection at 0x1e79b5a1400>"
      ]
     },
     "execution_count": 21,
     "metadata": {},
     "output_type": "execute_result"
    },
    {
     "data": {
      "image/png": "[encoded data removed]",
      "text/plain": [
       "<Figure size 432x288 with 1 Axes>"
      ]
     },
     "metadata": {
      "needs_background": "light"
     },
     "output_type": "display_data"
    }
   ],
   "source": [
    "plt.scatter(x,y)"
   ]
  },
  {
   "cell_type": "code",
   "execution_count": 22,
   "metadata": {},
   "outputs": [
    {
     "data": {
      "image/png": "[encoded data removed]",
      "text/plain": [
       "<Figure size 432x288 with 1 Axes>"
      ]
     },
     "metadata": {
      "needs_background": "light"
     },
     "output_type": "display_data"
    }
   ],
   "source": [
    "img_array=plt.imread(\"Cuadro 1.PNG\") \n",
    "plt.imshow(img_array, zorder=0, extent=[min(x),max(x), min(y),max(y)])\n",
    "plt.scatter(x,y, c=\"r\")\n",
    "#plt.title('Display Image read using imread()') \n",
    "#plt.axis('off')\n",
    "plt.show()"
   ]
  },
  {
   "cell_type": "markdown",
   "metadata": {},
   "source": [
    "## Extra Material:\n",
    "1. https://github.com/UAS4TCompetition/Results/blob/master/Codes/Team%207/UAS4T.pdf\n",
    "2. https://ieee-itsc2020.org/wp-content/uploads/2020/07/UAS-Collected-Traffic-Data-Analysis-UAS4T-Competition.pdf\n",
    "3. https://github.com/UAS4TCompetition/Results/blob/master/Codes/Team%2013/Traffic_prediction_competition_for_ITSC_2020.pdf\n",
    "4. https://github.com/UAS4TCompetition/Results/blob/master/Codes/Team%2015/UAS4T%20Competition%20-GUC-MRS-Overall%20Report%20.pdf\n",
    "5. https://github.com/UAS4TCompetition/Results/blob/master/Codes/Team%2018/Report.pdf\n",
    "6. https://github.com/UAS4TCompetition/Results/blob/master/Codes/Team%2021/uas4t_tl_team_report-revised.pdf\n",
    "7. https://github.com/UAS4TCompetition/Results/blob/master/Codes/Team%204/Proposed_Approach.pdf\n",
    "8. https://github.com/UAS4TCompetition/Results/blob/master/Codes/Team%205/3.short%20paper%20explaining%20the%20approach.pdf"
   ]
  },
  {
   "cell_type": "code",
   "execution_count": null,
   "metadata": {},
   "outputs": [],
   "source": []
  }
 ],
 "metadata": {
  "kernelspec": {
   "display_name": "Python 3",
   "language": "python",
   "name": "python3"
  },
  "language_info": {
   "codemirror_mode": {
    "name": "ipython",
    "version": 3
   },
   "file_extension": ".py",
   "mimetype": "text/x-python",
   "name": "python",
   "nbconvert_exporter": "python",
   "pygments_lexer": "ipython3",
   "version": "3.8.5"
  }
 },
 "nbformat": 4,
 "nbformat_minor": 4
}
