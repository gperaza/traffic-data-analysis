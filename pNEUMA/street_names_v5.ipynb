{
 "cells": [
  {
   "cell_type": "code",
   "execution_count": 1,
   "id": "preceding-anchor",
   "metadata": {},
   "outputs": [
    {
     "name": "stdout",
     "output_type": "stream",
     "text": [
      "time: 2.91 s (started: 2021-04-02 01:02:33 -06:00)\n"
     ]
    }
   ],
   "source": [
    "%load_ext autotime\n",
    "import pandas as pd\n",
    "import geopandas as gpd\n",
    "import geopy\n",
    "from geopy.geocoders import Nominatim\n",
    "from geopy.extra.rate_limiter import RateLimiter\n",
    "import matplotlib.pyplot as plt\n",
    "import plotly_express as px\n",
    "import tqdm\n",
    "from tqdm.notebook import tqdm_notebook"
   ]
  },
  {
   "cell_type": "code",
   "execution_count": 2,
   "id": "polar-beach",
   "metadata": {},
   "outputs": [
    {
     "name": "stdout",
     "output_type": "stream",
     "text": [
      "time: 172 ms (started: 2021-04-02 01:02:36 -06:00)\n"
     ]
    }
   ],
   "source": [
    "import re\n",
    "import numpy as np\n",
    "import pandas as df\n",
    "import dask.dataframe as dd\n",
    "from dask.delayed import delayed"
   ]
  },
  {
   "cell_type": "code",
   "execution_count": 3,
   "id": "collaborative-hebrew",
   "metadata": {},
   "outputs": [
    {
     "name": "stdout",
     "output_type": "stream",
     "text": [
      "time: 0 ns (started: 2021-04-02 01:02:37 -06:00)\n"
     ]
    }
   ],
   "source": [
    "import os"
   ]
  },
  {
   "cell_type": "code",
   "execution_count": 4,
   "id": "ongoing-synthesis",
   "metadata": {},
   "outputs": [
    {
     "data": {
      "text/plain": [
       "'C:\\\\Users\\\\artur\\\\code\\\\estancias\\\\Neuma'"
      ]
     },
     "execution_count": 4,
     "metadata": {},
     "output_type": "execute_result"
    },
    {
     "name": "stdout",
     "output_type": "stream",
     "text": [
      "time: 0 ns (started: 2021-04-02 01:02:38 -06:00)\n"
     ]
    }
   ],
   "source": [
    "os.getcwd()"
   ]
  },
  {
   "cell_type": "code",
   "execution_count": 5,
   "id": "simple-outreach",
   "metadata": {},
   "outputs": [
    {
     "name": "stdout",
     "output_type": "stream",
     "text": [
      "time: 50.9 s (started: 2021-04-02 01:02:39 -06:00)\n"
     ]
    }
   ],
   "source": [
    "os.chdir(\"drone_1\")\n",
    "df = dd.read_parquet('drone_uno.parquet')\n",
    "df = df.compute()"
   ]
  },
  {
   "cell_type": "code",
   "execution_count": 6,
   "id": "technical-damages",
   "metadata": {},
   "outputs": [
    {
     "data": {
      "text/html": [
       "<div>\n",
       "<style scoped>\n",
       "    .dataframe tbody tr th:only-of-type {\n",
       "        vertical-align: middle;\n",
       "    }\n",
       "\n",
       "    .dataframe tbody tr th {\n",
       "        vertical-align: top;\n",
       "    }\n",
       "\n",
       "    .dataframe thead th {\n",
       "        text-align: right;\n",
       "    }\n",
       "</style>\n",
       "<table border=\"1\" class=\"dataframe\">\n",
       "  <thead>\n",
       "    <tr style=\"text-align: right;\">\n",
       "      <th></th>\n",
       "      <th>ID</th>\n",
       "      <th>type</th>\n",
       "      <th>lon</th>\n",
       "      <th>lat</th>\n",
       "      <th>secs</th>\n",
       "      <th>speed</th>\n",
       "      <th>long_acc</th>\n",
       "      <th>lat_acc</th>\n",
       "      <th>date</th>\n",
       "    </tr>\n",
       "  </thead>\n",
       "  <tbody>\n",
       "    <tr>\n",
       "      <th>0</th>\n",
       "      <td>10298011</td>\n",
       "      <td>Car</td>\n",
       "      <td>23.737695</td>\n",
       "      <td>37.977353</td>\n",
       "      <td>0</td>\n",
       "      <td>0.0</td>\n",
       "      <td>0.0</td>\n",
       "      <td>0.0</td>\n",
       "      <td>2018-10-29 08:00:00</td>\n",
       "    </tr>\n",
       "    <tr>\n",
       "      <th>1</th>\n",
       "      <td>10298011</td>\n",
       "      <td>Car</td>\n",
       "      <td>23.737695</td>\n",
       "      <td>37.977353</td>\n",
       "      <td>40</td>\n",
       "      <td>0.0</td>\n",
       "      <td>0.0</td>\n",
       "      <td>0.0</td>\n",
       "      <td>2018-10-29 08:00:00</td>\n",
       "    </tr>\n",
       "    <tr>\n",
       "      <th>2</th>\n",
       "      <td>10298011</td>\n",
       "      <td>Car</td>\n",
       "      <td>23.737695</td>\n",
       "      <td>37.977353</td>\n",
       "      <td>80</td>\n",
       "      <td>0.0</td>\n",
       "      <td>0.0</td>\n",
       "      <td>0.0</td>\n",
       "      <td>2018-10-29 08:00:00</td>\n",
       "    </tr>\n",
       "    <tr>\n",
       "      <th>3</th>\n",
       "      <td>10298011</td>\n",
       "      <td>Car</td>\n",
       "      <td>23.737695</td>\n",
       "      <td>37.977353</td>\n",
       "      <td>120</td>\n",
       "      <td>0.0</td>\n",
       "      <td>0.0</td>\n",
       "      <td>0.0</td>\n",
       "      <td>2018-10-29 08:00:00</td>\n",
       "    </tr>\n",
       "    <tr>\n",
       "      <th>4</th>\n",
       "      <td>10298011</td>\n",
       "      <td>Car</td>\n",
       "      <td>23.737695</td>\n",
       "      <td>37.977353</td>\n",
       "      <td>160</td>\n",
       "      <td>0.0</td>\n",
       "      <td>0.0</td>\n",
       "      <td>0.0</td>\n",
       "      <td>2018-10-29 08:00:00</td>\n",
       "    </tr>\n",
       "  </tbody>\n",
       "</table>\n",
       "</div>"
      ],
      "text/plain": [
       "         ID type        lon        lat  secs  speed  long_acc  lat_acc  \\\n",
       "0  10298011  Car  23.737695  37.977353     0    0.0       0.0      0.0   \n",
       "1  10298011  Car  23.737695  37.977353    40    0.0       0.0      0.0   \n",
       "2  10298011  Car  23.737695  37.977353    80    0.0       0.0      0.0   \n",
       "3  10298011  Car  23.737695  37.977353   120    0.0       0.0      0.0   \n",
       "4  10298011  Car  23.737695  37.977353   160    0.0       0.0      0.0   \n",
       "\n",
       "                  date  \n",
       "0  2018-10-29 08:00:00  \n",
       "1  2018-10-29 08:00:00  \n",
       "2  2018-10-29 08:00:00  \n",
       "3  2018-10-29 08:00:00  \n",
       "4  2018-10-29 08:00:00  "
      ]
     },
     "execution_count": 6,
     "metadata": {},
     "output_type": "execute_result"
    },
    {
     "name": "stdout",
     "output_type": "stream",
     "text": [
      "time: 16 ms (started: 2021-04-02 01:03:30 -06:00)\n"
     ]
    }
   ],
   "source": [
    "df.head()"
   ]
  },
  {
   "cell_type": "code",
   "execution_count": 7,
   "id": "brilliant-dallas",
   "metadata": {},
   "outputs": [
    {
     "name": "stdout",
     "output_type": "stream",
     "text": [
      "time: 19.6 s (started: 2021-04-02 01:03:30 -06:00)\n"
     ]
    }
   ],
   "source": [
    "df[\"geom\"] = df[\"lat\"].map(str) + \",\" + df[\"lon\"].map(str)"
   ]
  },
  {
   "cell_type": "code",
   "execution_count": 8,
   "id": "collectible-mountain",
   "metadata": {},
   "outputs": [
    {
     "data": {
      "text/html": [
       "<div>\n",
       "<style scoped>\n",
       "    .dataframe tbody tr th:only-of-type {\n",
       "        vertical-align: middle;\n",
       "    }\n",
       "\n",
       "    .dataframe tbody tr th {\n",
       "        vertical-align: top;\n",
       "    }\n",
       "\n",
       "    .dataframe thead th {\n",
       "        text-align: right;\n",
       "    }\n",
       "</style>\n",
       "<table border=\"1\" class=\"dataframe\">\n",
       "  <thead>\n",
       "    <tr style=\"text-align: right;\">\n",
       "      <th></th>\n",
       "      <th>ID</th>\n",
       "      <th>type</th>\n",
       "      <th>lon</th>\n",
       "      <th>lat</th>\n",
       "      <th>secs</th>\n",
       "      <th>speed</th>\n",
       "      <th>long_acc</th>\n",
       "      <th>lat_acc</th>\n",
       "      <th>date</th>\n",
       "      <th>geom</th>\n",
       "    </tr>\n",
       "  </thead>\n",
       "  <tbody>\n",
       "    <tr>\n",
       "      <th>0</th>\n",
       "      <td>10298011</td>\n",
       "      <td>Car</td>\n",
       "      <td>23.737695</td>\n",
       "      <td>37.977353</td>\n",
       "      <td>0</td>\n",
       "      <td>0.0</td>\n",
       "      <td>0.0</td>\n",
       "      <td>0.0</td>\n",
       "      <td>2018-10-29 08:00:00</td>\n",
       "      <td>37.977353,23.737695</td>\n",
       "    </tr>\n",
       "    <tr>\n",
       "      <th>1</th>\n",
       "      <td>10298011</td>\n",
       "      <td>Car</td>\n",
       "      <td>23.737695</td>\n",
       "      <td>37.977353</td>\n",
       "      <td>40</td>\n",
       "      <td>0.0</td>\n",
       "      <td>0.0</td>\n",
       "      <td>0.0</td>\n",
       "      <td>2018-10-29 08:00:00</td>\n",
       "      <td>37.977353,23.737695</td>\n",
       "    </tr>\n",
       "    <tr>\n",
       "      <th>2</th>\n",
       "      <td>10298011</td>\n",
       "      <td>Car</td>\n",
       "      <td>23.737695</td>\n",
       "      <td>37.977353</td>\n",
       "      <td>80</td>\n",
       "      <td>0.0</td>\n",
       "      <td>0.0</td>\n",
       "      <td>0.0</td>\n",
       "      <td>2018-10-29 08:00:00</td>\n",
       "      <td>37.977353,23.737695</td>\n",
       "    </tr>\n",
       "    <tr>\n",
       "      <th>3</th>\n",
       "      <td>10298011</td>\n",
       "      <td>Car</td>\n",
       "      <td>23.737695</td>\n",
       "      <td>37.977353</td>\n",
       "      <td>120</td>\n",
       "      <td>0.0</td>\n",
       "      <td>0.0</td>\n",
       "      <td>0.0</td>\n",
       "      <td>2018-10-29 08:00:00</td>\n",
       "      <td>37.977353,23.737695</td>\n",
       "    </tr>\n",
       "    <tr>\n",
       "      <th>4</th>\n",
       "      <td>10298011</td>\n",
       "      <td>Car</td>\n",
       "      <td>23.737695</td>\n",
       "      <td>37.977353</td>\n",
       "      <td>160</td>\n",
       "      <td>0.0</td>\n",
       "      <td>0.0</td>\n",
       "      <td>0.0</td>\n",
       "      <td>2018-10-29 08:00:00</td>\n",
       "      <td>37.977353,23.737695</td>\n",
       "    </tr>\n",
       "  </tbody>\n",
       "</table>\n",
       "</div>"
      ],
      "text/plain": [
       "         ID type        lon        lat  secs  speed  long_acc  lat_acc  \\\n",
       "0  10298011  Car  23.737695  37.977353     0    0.0       0.0      0.0   \n",
       "1  10298011  Car  23.737695  37.977353    40    0.0       0.0      0.0   \n",
       "2  10298011  Car  23.737695  37.977353    80    0.0       0.0      0.0   \n",
       "3  10298011  Car  23.737695  37.977353   120    0.0       0.0      0.0   \n",
       "4  10298011  Car  23.737695  37.977353   160    0.0       0.0      0.0   \n",
       "\n",
       "                  date                 geom  \n",
       "0  2018-10-29 08:00:00  37.977353,23.737695  \n",
       "1  2018-10-29 08:00:00  37.977353,23.737695  \n",
       "2  2018-10-29 08:00:00  37.977353,23.737695  \n",
       "3  2018-10-29 08:00:00  37.977353,23.737695  \n",
       "4  2018-10-29 08:00:00  37.977353,23.737695  "
      ]
     },
     "execution_count": 8,
     "metadata": {},
     "output_type": "execute_result"
    },
    {
     "name": "stdout",
     "output_type": "stream",
     "text": [
      "time: 46 ms (started: 2021-04-02 01:03:50 -06:00)\n"
     ]
    }
   ],
   "source": [
    "df.head()"
   ]
  },
  {
   "cell_type": "code",
   "execution_count": 9,
   "id": "certified-adolescent",
   "metadata": {},
   "outputs": [
    {
     "name": "stdout",
     "output_type": "stream",
     "text": [
      "time: 1.62 s (started: 2021-04-02 01:03:50 -06:00)\n"
     ]
    }
   ],
   "source": [
    "df.drop(columns = ['long_acc', 'lat_acc', 'secs', 'speed', 'date'], inplace = True)"
   ]
  },
  {
   "cell_type": "code",
   "execution_count": 12,
   "id": "parliamentary-johnston",
   "metadata": {},
   "outputs": [
    {
     "name": "stdout",
     "output_type": "stream",
     "text": [
      "time: 0 ns (started: 2021-04-02 01:04:28 -06:00)\n"
     ]
    }
   ],
   "source": [
    "locator = Nominatim(user_agent=\"myGeocoder\", timeout=10)\n",
    "# rgeocode = RateLimiter(locator.reverse, min_delay_seconds=0.001)\n",
    "location = lambda coordinates : locator.reverse(coordinates).raw['address'].get('road')"
   ]
  },
  {
   "cell_type": "code",
   "execution_count": 14,
   "id": "baking-attendance",
   "metadata": {},
   "outputs": [
    {
     "name": "stdout",
     "output_type": "stream",
     "text": [
      "time: 437 ms (started: 2021-04-02 01:05:34 -06:00)\n"
     ]
    }
   ],
   "source": [
    "sample = df.sample(100)"
   ]
  },
  {
   "cell_type": "code",
   "execution_count": 16,
   "id": "usual-grass",
   "metadata": {},
   "outputs": [
    {
     "name": "stderr",
     "output_type": "stream",
     "text": [
      "100%|████████████████████████████████████████████████████████████████████████████████| 100/100 [00:49<00:00,  2.01it/s]"
     ]
    },
    {
     "name": "stdout",
     "output_type": "stream",
     "text": [
      "time: 49.8 s (started: 2021-04-02 01:06:21 -06:00)\n"
     ]
    },
    {
     "name": "stderr",
     "output_type": "stream",
     "text": [
      "\n"
     ]
    }
   ],
   "source": [
    "from tqdm import tqdm\n",
    "tqdm.pandas()\n",
    "sample[\"street\"] = sample[\"geom\"].progress_apply(location)\n",
    "sample.drop(columns = ['geom'], inplace = True)"
   ]
  },
  {
   "cell_type": "code",
   "execution_count": 17,
   "id": "directed-carol",
   "metadata": {},
   "outputs": [
    {
     "data": {
      "text/html": [
       "<div>\n",
       "<style scoped>\n",
       "    .dataframe tbody tr th:only-of-type {\n",
       "        vertical-align: middle;\n",
       "    }\n",
       "\n",
       "    .dataframe tbody tr th {\n",
       "        vertical-align: top;\n",
       "    }\n",
       "\n",
       "    .dataframe thead th {\n",
       "        text-align: right;\n",
       "    }\n",
       "</style>\n",
       "<table border=\"1\" class=\"dataframe\">\n",
       "  <thead>\n",
       "    <tr style=\"text-align: right;\">\n",
       "      <th></th>\n",
       "      <th>ID</th>\n",
       "      <th>type</th>\n",
       "      <th>lon</th>\n",
       "      <th>lat</th>\n",
       "      <th>street</th>\n",
       "    </tr>\n",
       "  </thead>\n",
       "  <tbody>\n",
       "    <tr>\n",
       "      <th>832</th>\n",
       "      <td>10299301332</td>\n",
       "      <td>Car</td>\n",
       "      <td>23.736052</td>\n",
       "      <td>37.979570</td>\n",
       "      <td>Ακαδημίας</td>\n",
       "    </tr>\n",
       "    <tr>\n",
       "      <th>3418</th>\n",
       "      <td>10298301473</td>\n",
       "      <td>Car</td>\n",
       "      <td>23.737155</td>\n",
       "      <td>37.977988</td>\n",
       "      <td>Βουκουρεστίου</td>\n",
       "    </tr>\n",
       "    <tr>\n",
       "      <th>107</th>\n",
       "      <td>10291001894</td>\n",
       "      <td>Motorcycle</td>\n",
       "      <td>23.735204</td>\n",
       "      <td>37.980418</td>\n",
       "      <td>Ακαδημίας</td>\n",
       "    </tr>\n",
       "    <tr>\n",
       "      <th>1663</th>\n",
       "      <td>1029801266</td>\n",
       "      <td>Taxi</td>\n",
       "      <td>23.737420</td>\n",
       "      <td>37.979421</td>\n",
       "      <td>Λυκαβηττού</td>\n",
       "    </tr>\n",
       "    <tr>\n",
       "      <th>6987</th>\n",
       "      <td>1029100112</td>\n",
       "      <td>Car</td>\n",
       "      <td>23.736745</td>\n",
       "      <td>37.979119</td>\n",
       "      <td>Λυκαβηττού</td>\n",
       "    </tr>\n",
       "  </tbody>\n",
       "</table>\n",
       "</div>"
      ],
      "text/plain": [
       "               ID        type        lon        lat         street\n",
       "832   10299301332         Car  23.736052  37.979570      Ακαδημίας\n",
       "3418  10298301473         Car  23.737155  37.977988  Βουκουρεστίου\n",
       "107   10291001894  Motorcycle  23.735204  37.980418      Ακαδημίας\n",
       "1663   1029801266        Taxi  23.737420  37.979421     Λυκαβηττού\n",
       "6987   1029100112         Car  23.736745  37.979119     Λυκαβηττού"
      ]
     },
     "execution_count": 17,
     "metadata": {},
     "output_type": "execute_result"
    },
    {
     "name": "stdout",
     "output_type": "stream",
     "text": [
      "time: 0 ns (started: 2021-04-02 01:07:15 -06:00)\n"
     ]
    }
   ],
   "source": [
    "sample.head()"
   ]
  },
  {
   "cell_type": "code",
   "execution_count": 18,
   "id": "united-emerald",
   "metadata": {},
   "outputs": [
    {
     "data": {
      "text/html": [
       "<div>\n",
       "<style scoped>\n",
       "    .dataframe tbody tr th:only-of-type {\n",
       "        vertical-align: middle;\n",
       "    }\n",
       "\n",
       "    .dataframe tbody tr th {\n",
       "        vertical-align: top;\n",
       "    }\n",
       "\n",
       "    .dataframe thead th {\n",
       "        text-align: right;\n",
       "    }\n",
       "</style>\n",
       "<table border=\"1\" class=\"dataframe\">\n",
       "  <thead>\n",
       "    <tr style=\"text-align: right;\">\n",
       "      <th></th>\n",
       "      <th>ID</th>\n",
       "      <th>type</th>\n",
       "      <th>lon</th>\n",
       "      <th>lat</th>\n",
       "      <th>street</th>\n",
       "    </tr>\n",
       "  </thead>\n",
       "  <tbody>\n",
       "    <tr>\n",
       "      <th>12139</th>\n",
       "      <td>10291001553</td>\n",
       "      <td>Motorcycle</td>\n",
       "      <td>23.737901</td>\n",
       "      <td>37.979041</td>\n",
       "      <td>Σόλωνος</td>\n",
       "    </tr>\n",
       "    <tr>\n",
       "      <th>624</th>\n",
       "      <td>10299301191</td>\n",
       "      <td>Car</td>\n",
       "      <td>23.736458</td>\n",
       "      <td>37.979009</td>\n",
       "      <td>Ακαδημίας</td>\n",
       "    </tr>\n",
       "    <tr>\n",
       "      <th>2142</th>\n",
       "      <td>10299301175</td>\n",
       "      <td>Car</td>\n",
       "      <td>23.737114</td>\n",
       "      <td>37.978205</td>\n",
       "      <td>Ακαδημίας</td>\n",
       "    </tr>\n",
       "    <tr>\n",
       "      <th>4446</th>\n",
       "      <td>1029100183</td>\n",
       "      <td>MediumVehicle</td>\n",
       "      <td>23.736726</td>\n",
       "      <td>37.979142</td>\n",
       "      <td>Λυκαβηττού</td>\n",
       "    </tr>\n",
       "    <tr>\n",
       "      <th>1224</th>\n",
       "      <td>10298301532</td>\n",
       "      <td>Car</td>\n",
       "      <td>23.737115</td>\n",
       "      <td>37.979258</td>\n",
       "      <td>Λυκαβηττού</td>\n",
       "    </tr>\n",
       "  </tbody>\n",
       "</table>\n",
       "</div>"
      ],
      "text/plain": [
       "                ID           type        lon        lat      street\n",
       "12139  10291001553     Motorcycle  23.737901  37.979041     Σόλωνος\n",
       "624    10299301191            Car  23.736458  37.979009   Ακαδημίας\n",
       "2142   10299301175            Car  23.737114  37.978205   Ακαδημίας\n",
       "4446    1029100183  MediumVehicle  23.736726  37.979142  Λυκαβηττού\n",
       "1224   10298301532            Car  23.737115  37.979258  Λυκαβηττού"
      ]
     },
     "execution_count": 18,
     "metadata": {},
     "output_type": "execute_result"
    },
    {
     "name": "stdout",
     "output_type": "stream",
     "text": [
      "time: 15 ms (started: 2021-04-02 01:07:16 -06:00)\n"
     ]
    }
   ],
   "source": [
    "sample.tail()"
   ]
  },
  {
   "cell_type": "code",
   "execution_count": null,
   "id": "ready-milan",
   "metadata": {},
   "outputs": [],
   "source": []
  }
 ],
 "metadata": {
  "kernelspec": {
   "display_name": "Python 3",
   "language": "python",
   "name": "python3"
  },
  "language_info": {
   "codemirror_mode": {
    "name": "ipython",
    "version": 3
   },
   "file_extension": ".py",
   "mimetype": "text/x-python",
   "name": "python",
   "nbconvert_exporter": "python",
   "pygments_lexer": "ipython3",
   "version": "3.8.8"
  }
 },
 "nbformat": 4,
 "nbformat_minor": 5
}
